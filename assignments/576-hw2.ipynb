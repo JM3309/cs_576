{
 "cells": [
  {
   "cell_type": "code",
   "execution_count": null,
   "metadata": {},
   "outputs": [],
   "source": [
    "\"\"\"\n",
    "\n",
    "HW2-576\n",
    "\n",
    "\"\"\""
   ]
  },
  {
   "cell_type": "markdown",
   "metadata": {},
   "source": [
    "### 1. Modify your neural network from problem 3 of Assignment 1 to use binary classification instead of mean-square error. Evaluate your new neural network with your XOR test dataset generated in the previous assignment. Compare your modified neural network with your previous one (from last assignment), and write down your discovery."
   ]
  },
  {
   "cell_type": "code",
   "execution_count": 2,
   "metadata": {},
   "outputs": [],
   "source": [
    "import torch\n",
    "import torch.nn as nn\n",
    "import torch.nn.functional as F\t\n",
    "import torch.optim as optim\t\n",
    "from torchvision import datasets, transforms,utils\n",
    "import os\n",
    "import scipy.io as sio\n",
    "import numpy as np\n",
    "import torch.backends.cudnn as cudnn\n",
    "from torch.utils.data import Dataset, DataLoader\n",
    "from torch.autograd import Variable\n"
   ]
  },
  {
   "cell_type": "code",
   "execution_count": 3,
   "metadata": {},
   "outputs": [],
   "source": [
    "use_cuda = torch.cuda.is_available()\n",
    "use_cuda = False"
   ]
  },
  {
   "cell_type": "code",
   "execution_count": 4,
   "metadata": {},
   "outputs": [],
   "source": [
    "class Neuralnetwork(nn.Module):\n",
    "    def __init__(self, input_dim=2, output_dim=1,nLinear1=4, nLinear2=4):\n",
    "        super(Neuralnetwork, self).__init__()\n",
    "        self.lin1 = nn.Linear(input_dim, nLinear1)\n",
    "        self.lin2 = nn.Linear(nLinear1, nLinear2)\n",
    "        self.lin3 = nn.Linear(nLinear2, output_dim)\n",
    "\n",
    "    def forward(self, x):\n",
    "        x = self.lin1(x)\n",
    "        x = torch.sigmoid(x)\n",
    "        x = self.lin2(x)\n",
    "        x = torch.sigmoid(x)\n",
    "        x = self.lin3(x)\n",
    "        return x\n",
    "\n",
    "def weights_init(model):\n",
    "    for m in model.modules():\n",
    "        if isinstance(m, nn.Linear):\n",
    "            m.weight.data.normal_(-1, 1)\n",
    "            "
   ]
  },
  {
   "cell_type": "code",
   "execution_count": 5,
   "metadata": {},
   "outputs": [
    {
     "name": "stdout",
     "output_type": "stream",
     "text": [
      "Neuralnetwork(\n",
      "  (lin1): Linear(in_features=2, out_features=4, bias=True)\n",
      "  (lin2): Linear(in_features=4, out_features=4, bias=True)\n",
      "  (lin3): Linear(in_features=4, out_features=1, bias=True)\n",
      ")\n"
     ]
    }
   ],
   "source": [
    "model = Neuralnetwork()\n",
    "print(model)  # net architecture\n",
    "weights_init(model)"
   ]
  },
  {
   "cell_type": "code",
   "execution_count": 6,
   "metadata": {},
   "outputs": [],
   "source": [
    " #Loss function \n",
    "m = nn.Sigmoid()\n",
    "criterion = nn.BCELoss()"
   ]
  },
  {
   "cell_type": "code",
   "execution_count": 7,
   "metadata": {},
   "outputs": [],
   "source": [
    "# training function\n",
    "def train(model, learning_rate, criterion, data, idx_list):\n",
    "\n",
    "    optimizer = optim.SGD(model.parameters(), lr=learning_rate, momentum=0.9)\n",
    "    \n",
    "    optimizer.zero_grad()\n",
    "\n",
    "    nPoints = len(idx_list)\n",
    "    inputs = []\n",
    "    targets = []\n",
    "    loss = 0\n",
    "\n",
    "    for i in idx_list:\n",
    "        inputs.append(data[0][i])\n",
    "        targets.append(data[1][i])\n",
    "\n",
    "    inputs = torch.Tensor(inputs)\n",
    "    targets = torch.Tensor(targets)\n",
    "    output = model(inputs)\n",
    "\n",
    "    loss += criterion(m(output.view(-1)), targets)\n",
    "\n",
    "    loss.backward()\n",
    "    optimizer.step()\n",
    "\n",
    "    return loss.item(), nPoints"
   ]
  },
  {
   "cell_type": "code",
   "execution_count": 8,
   "metadata": {},
   "outputs": [],
   "source": [
    "# a function that creates data \n",
    "def create_data(npoints):\n",
    "    #random.seed(1)\n",
    "\n",
    "    x = []\n",
    "    y = []\n",
    "    for i in range(npoints):\n",
    "        #x0 = (torch.rand(npoints) - 0.5) * 2\n",
    "        x0 = np.random.randint(-10, 10)/10\n",
    "        #x1 = (torch.rand(npoints) - 0.5) * 2\n",
    "        x1 = np.random.randint(-10, 10)/10\n",
    "        label = 0 if x0 * x1 > 0 else 1\n",
    "        x.append([x0, x1])\n",
    "        y.append(label)\n",
    "    x = np.asarray(x)\n",
    "    y = np.asarray(y)\n",
    "\n",
    "    return [x, y]"
   ]
  },
  {
   "cell_type": "code",
   "execution_count": 9,
   "metadata": {},
   "outputs": [],
   "source": [
    "# create train_data,dev_data and test_data\n",
    "datapoints = 10000\n",
    "train_data = create_data(int(0.8*datapoints))\n",
    "dev_data = create_data(int(0.1*datapoints))\n",
    "test_data = create_data(int(0.1*datapoints))"
   ]
  },
  {
   "cell_type": "code",
   "execution_count": 10,
   "metadata": {},
   "outputs": [],
   "source": [
    "DataPoints = len(train_data[0])\n",
    "train_list = [i for i in range(len(train_data[0]))]           \n",
    "dev_list = [i for i in range(len(dev_data[0]))]   \n",
    "test_list = [i for i in range(len(test_data[0]))]"
   ]
  },
  {
   "cell_type": "code",
   "execution_count": 15,
   "metadata": {},
   "outputs": [],
   "source": [
    "#Train and tune the neural net with your XOR train dataset\n",
    "batch_size = 10\n",
    "nEpochs = 20 \n",
    "learning_rate = 0.01\n"
   ]
  },
  {
   "cell_type": "code",
   "execution_count": 16,
   "metadata": {
    "scrolled": true
   },
   "outputs": [
    {
     "name": "stdout",
     "output_type": "stream",
     "text": [
      "Epoch: 0, Loss: 0.023619\n",
      "Epoch: 2, Loss: 0.022259\n",
      "Epoch: 4, Loss: 0.021016\n",
      "Epoch: 6, Loss: 0.019884\n",
      "Epoch: 8, Loss: 0.018841\n",
      "Epoch: 10, Loss: 0.017865\n",
      "Epoch: 12, Loss: 0.016982\n",
      "Epoch: 14, Loss: 0.016149\n",
      "Epoch: 16, Loss: 0.015379\n",
      "Epoch: 18, Loss: 0.014651\n"
     ]
    }
   ],
   "source": [
    "# train XOR model\n",
    "for epoch in range(nEpochs):\n",
    "    np.random.shuffle(train_list)\n",
    "    TrainLoss = 0\n",
    "    TrainPoints = 0\n",
    "    \n",
    "    for i in range(0, DataPoints, batch_size):\n",
    "        loss, nPoints = train(model, learning_rate, criterion, train_data, train_list[i:i+batch_size])\n",
    "        TrainLoss += loss\n",
    "        TrainPoints += nPoints\n",
    "    \n",
    "    if epoch % (nEpochs/10) == 0:\n",
    "        print(f'Epoch: {epoch}, Loss: {TrainLoss/TrainPoints:.6f}')"
   ]
  },
  {
   "cell_type": "code",
   "execution_count": 17,
   "metadata": {},
   "outputs": [
    {
     "name": "stdout",
     "output_type": "stream",
     "text": [
      "mean squared error for test data = 0.029137970501316838\n"
     ]
    }
   ],
   "source": [
    "x, y = test_data\n",
    "out = model(torch.Tensor(x))\n",
    "out = nn.Sigmoid()(out)\n",
    "out = out.detach().cpu().numpy()[:,0]\n",
    "mse = (((y - out)**2).sum()) / len(y)\n",
    "print(f'mean squared error for test data = {mse}')"
   ]
  },
  {
   "cell_type": "markdown",
   "metadata": {},
   "source": [
    "### Comparing with the MSE :\n",
    "(1) For the same train data size, BCEloss is larger than mseloss\n",
    "\n",
    "(2)BCEloss converges faster\n",
    "\n",
    "(3)If using BCE, the input must be between 0 and 1."
   ]
  },
  {
   "cell_type": "markdown",
   "metadata": {},
   "source": [
    "### 2. Modify your new XOR neural network to include an L2 regularization. Evaluate the new neural network with your XOR test dataset generated in the previous assignment. Compare your new neural network with the previous one(from this assignment), and write down your discovery"
   ]
  },
  {
   "cell_type": "code",
   "execution_count": null,
   "metadata": {},
   "outputs": [],
   "source": [
    "#The weight_decay parameter in optim.SGD adds a L2 penalty to the cost which can effectively lead to to smaller model weights. \n",
    "optimizer = torch.optim.SGD(model.parameters(), lr=0.01, weight_decay=0.001)"
   ]
  },
  {
   "cell_type": "code",
   "execution_count": 18,
   "metadata": {},
   "outputs": [],
   "source": [
    "# training function\n",
    "def train1(model, learning_rate, criterion, data, idx_list):\n",
    "\n",
    "    optimizer = optim.SGD(model.parameters(), lr=learning_rate, momentum=0.9, weight_decay=0.001)\n",
    "    \n",
    "    optimizer.zero_grad()\n",
    "\n",
    "    nPoints = len(idx_list)\n",
    "    inputs = []\n",
    "    targets = []\n",
    "    loss = 0\n",
    "\n",
    "    for i in idx_list:\n",
    "        inputs.append(data[0][i])\n",
    "        targets.append(data[1][i])\n",
    "\n",
    "    inputs = torch.Tensor(inputs)\n",
    "    targets = torch.Tensor(targets)\n",
    "    output = model(inputs)\n",
    "\n",
    "    loss += criterion(m(output.view(-1)), targets)\n",
    "\n",
    "    loss.backward()\n",
    "    optimizer.step()\n",
    "\n",
    "    return loss.item(), nPoints"
   ]
  },
  {
   "cell_type": "code",
   "execution_count": 19,
   "metadata": {},
   "outputs": [
    {
     "name": "stdout",
     "output_type": "stream",
     "text": [
      "Epoch: 0, Loss: 0.014112\n",
      "Epoch: 2, Loss: 0.014035\n",
      "Epoch: 4, Loss: 0.013970\n",
      "Epoch: 6, Loss: 0.013900\n",
      "Epoch: 8, Loss: 0.013845\n",
      "Epoch: 10, Loss: 0.013781\n",
      "Epoch: 12, Loss: 0.013740\n",
      "Epoch: 14, Loss: 0.013688\n",
      "Epoch: 16, Loss: 0.013642\n",
      "Epoch: 18, Loss: 0.013594\n"
     ]
    }
   ],
   "source": [
    "# train XOR model\n",
    "for epoch in range(nEpochs):\n",
    "    np.random.shuffle(train_list)\n",
    "    TrainLoss = 0\n",
    "    TrainPoints = 0\n",
    "    \n",
    "    for i in range(0, DataPoints, batch_size):\n",
    "        loss, nPoints = train1(model, learning_rate, criterion, train_data, train_list[i:i+batch_size])\n",
    "        TrainLoss += loss\n",
    "        TrainPoints += nPoints\n",
    "    \n",
    "    if epoch % (nEpochs/10) == 0:\n",
    "        print(f'Epoch: {epoch}, Loss: {TrainLoss/TrainPoints:.6f}')"
   ]
  },
  {
   "cell_type": "code",
   "execution_count": 20,
   "metadata": {},
   "outputs": [
    {
     "name": "stdout",
     "output_type": "stream",
     "text": [
      "mean squared error for test data = 0.026179354803523302\n"
     ]
    }
   ],
   "source": [
    "x, y = test_data\n",
    "out = model(torch.Tensor(x))\n",
    "out = nn.Sigmoid()(out)\n",
    "out = out.detach().cpu().numpy()[:,0]\n",
    "mse = (((y - out)**2).sum()) / len(y)\n",
    "print(f'mean squared error for test data = {mse}')"
   ]
  },
  {
   "cell_type": "markdown",
   "metadata": {},
   "source": [
    "The result shows that using L2 regularization converges faster and the result is more stable."
   ]
  },
  {
   "cell_type": "markdown",
   "metadata": {},
   "source": [
    "## non-coding question"
   ]
  },
  {
   "cell_type": "markdown",
   "metadata": {},
   "source": [
    "### 1. Learning-rate is a hyperparameter that controls the behavior of the optimizer. How does learning-rate affect the training process of a neural network? Step size is the size of the update of parameters during gradient descent. Should the step size always be the same through the whole training process? Why or why not? Use examples to justify your answer"
   ]
  },
  {
   "cell_type": "markdown",
   "metadata": {},
   "source": [
    "The learning rate determines whether the objective function can converge to a local minimum and when to converge to a minimum. A proper learning rate can make the objective function converge to a local minimum in a suitable time.When the learning rate is set too small, the convergence process becomes very slow. When the learning rate is set too large, the gradient may oscillate around the minimum value and may not even converge or diverge."
   ]
  },
  {
   "cell_type": "markdown",
   "metadata": {},
   "source": [
    "The step size shouldn't always be the same. Since it can help you to find a more accurate answer if you change the learning rate to suitable size in different trials. The following is the example which is the fucntion used in last homework.The function is f(x, y) = 3(x^2 − y)^2 + 4(y^2 − x)^2 and using gradient descent and draw the plot to explain."
   ]
  },
  {
   "cell_type": "code",
   "execution_count": 27,
   "metadata": {},
   "outputs": [
    {
     "data": {
      "image/png": "[encoded data removed]",
      "text/plain": [
       "<Figure size 432x288 with 1 Axes>"
      ]
     },
     "metadata": {
      "needs_background": "light"
     },
     "output_type": "display_data"
    },
    {
     "name": "stdout",
     "output_type": "stream",
     "text": [
      "the minimum of function f(x,y) is  207264.10918352086\n",
      "The time it spend is: 1.289097785949707\n"
     ]
    }
   ],
   "source": [
    "import numpy as np\n",
    "import matplotlib.pyplot as plt\n",
    "from mpl_toolkits.mplot3d import Axes3D\n",
    "import time\n",
    " \n",
    "def Fun(x,y):\n",
    "    return 3*(x**2-y)**2 + 4*(y**2-x)**2\n",
    "def PxFun(x,y):\n",
    "    return (12*x*(x**2-y)+8*x-8*y**2) \n",
    "def PyFun(x,y):\n",
    "    return (-6*x**2+16*y*(-x+y**2)+6*y)\n",
    "\n",
    "start = time.time()\n",
    "\n",
    "\n",
    "fig=plt.figure()\n",
    "ax=Axes3D(fig)\n",
    "X,Y=np.mgrid[-2:2:40j,-2:2:40j]\n",
    "Z=Fun(X,Y)\n",
    "#ax.plot_surface(X,Y,Z,rstride=1,cstride=1,cmap=\"rainbow\")\n",
    "ax.set_xlabel('x')\n",
    "ax.set_ylabel('y')\n",
    "ax.set_zlabel('z')\n",
    " \n",
    "#gradient descent\n",
    "step=0.001\n",
    "x=3\n",
    "y=-12\n",
    "tag_x=[x]\n",
    "tag_y=[y]\n",
    "tag_z=[Fun(x,y)]\n",
    "new_x=x\n",
    "new_y=y\n",
    "Over=False\n",
    "while Over==False:\n",
    "    new_x-=step*PxFun(x,y)\n",
    "    new_y-=step*PyFun(x,y)\n",
    "    if Fun(x,y)-Fun(new_x,new_y)<1e-5:\n",
    "        Over=True\n",
    "    x=new_x\n",
    "    y=new_y#更新旧点\n",
    "    tag_x.append(x)\n",
    "    tag_y.append(y)\n",
    "    tag_z.append(Fun(x,y))\n",
    "\n",
    "\n",
    "ax.plot(tag_x,tag_y,tag_z,'r.')\n",
    "plt.title('(x,y)~('+str(x)+\",\"+str(y)+')')\n",
    "plt.show()\n",
    "#print(x,y)\n",
    "end = time.time()\n",
    "print(\"the minimum of function f(x,y) is \",Fun(x,y))\n",
    "print(\"The time it spend is:\",(end-start))"
   ]
  },
  {
   "cell_type": "markdown",
   "metadata": {},
   "source": [
    "The minmum suppose be 0 at point(0,0). However,this plot shows us that if I set step size as 0.01,this step is too large thus the gradient diverge and thus can't find the minimum."
   ]
  },
  {
   "cell_type": "code",
   "execution_count": null,
   "metadata": {},
   "outputs": [],
   "source": [
    "import numpy as np\n",
    "import matplotlib.pyplot as plt\n",
    "from mpl_toolkits.mplot3d import Axes3D\n",
    "import time\n",
    " \n",
    "def Fun(x,y):\n",
    "    return 3*(x**2-y)**2 + 4*(y**2-x)**2\n",
    "def PxFun(x,y):\n",
    "    return (12*x*(x**2-y)+8*x-8*y**2) \n",
    "def PyFun(x,y):\n",
    "    return (-6*x**2+16*y*(-x+y**2)+6*y)\n",
    "\n",
    "start = time.time()\n",
    "\n",
    "\n",
    "fig=plt.figure()\n",
    "ax=Axes3D(fig)\n",
    "X,Y=np.mgrid[-2:2:40j,-2:2:40j]\n",
    "Z=Fun(X,Y)\n",
    "#ax.plot_surface(X,Y,Z,rstride=1,cstride=1,cmap=\"rainbow\")\n",
    "ax.set_xlabel('x')\n",
    "ax.set_ylabel('y')\n",
    "ax.set_zlabel('z')\n",
    " \n",
    "#gradient descent\n",
    "step=0.0000001\n",
    "x=3\n",
    "y=-12\n",
    "tag_x=[x]\n",
    "tag_y=[y]\n",
    "tag_z=[Fun(x,y)]\n",
    "new_x=x\n",
    "new_y=y\n",
    "Over=False\n",
    "while Over==False:\n",
    "    new_x-=step*PxFun(x,y)\n",
    "    new_y-=step*PyFun(x,y)\n",
    "    if Fun(x,y)-Fun(new_x,new_y)<1e-7:\n",
    "        Over=True\n",
    "    x=new_x\n",
    "    y=new_y#更新旧点\n",
    "    tag_x.append(x)\n",
    "    tag_y.append(y)\n",
    "    tag_z.append(Fun(x,y))\n",
    "\n",
    "\n",
    "ax.plot(tag_x,tag_y,tag_z,'r.')\n",
    "plt.title('(x,y)~('+str(x)+\",\"+str(y)+')')\n",
    "plt.show()\n",
    "#print(x,y)\n",
    "end = time.time()\n",
    "print(\"the minimum of function f(x,y) is \",Fun(x,y))\n",
    "print(\"The time it spend is:\",(end-start))"
   ]
  },
  {
   "cell_type": "markdown",
   "metadata": {},
   "source": [
    "The minmum suppose be 0 at point(0,0).We set the step size = 0.0000001.However,this plot shows us that though the step size don't diverge, however it took much longer than the suitable step size converged to the minimum. Here the time is 13.00117039680481.\n",
    "\n",
    "-------------------------------------------------------------------------------------------------"
   ]
  },
  {
   "cell_type": "markdown",
   "metadata": {},
   "source": [
    "### 2. Use your own language to describe underfitting and overfitting. Use examples to justify your answer."
   ]
  },
  {
   "cell_type": "markdown",
   "metadata": {},
   "source": [
    "Underfitting is actually that the training samples have fewer features extracted, resulting in the trained model not matching well, performing poorly, and even the train set cannot be efficiently identified.\n",
    "\n",
    "Over-fitting is actually that the built machine learning model or deep learning model performs too well in the training samples, resulting in poor performance in the validation data set and the test data set."
   ]
  },
  {
   "cell_type": "markdown",
   "metadata": {},
   "source": [
    "This is the example I want to use, suppose I create a data x between -3 and 3 and I create the function equals to 0.5*x^2+x+2+np.random.normal(0,1,size=100). \n",
    "If I use the linear regression to simulate the function it can't give us a accurate result which means it performs poorly. However, if I use polynomial regression function to simulate it(for example here is 50),though it performs well in this plot, when we change to the test data it won't performs well. I also calculate the mse to see the which curves performs well. So the last plot and result show that the if we use quadratic function to simulate the function it performs well."
   ]
  },
  {
   "cell_type": "code",
   "execution_count": 23,
   "metadata": {},
   "outputs": [
    {
     "data": {
      "text/plain": [
       "3.1516848569817113"
      ]
     },
     "execution_count": 23,
     "metadata": {},
     "output_type": "execute_result"
    },
    {
     "data": {
      "image/png": "[encoded data removed]",
      "text/plain": [
       "<Figure size 432x288 with 1 Axes>"
      ]
     },
     "metadata": {
      "needs_background": "light"
     },
     "output_type": "display_data"
    }
   ],
   "source": [
    "import matplotlib.pyplot as plt\n",
    "x=np.random.uniform(-3,3,size=100) \n",
    "X=x.reshape(-1,1)\n",
    "y=0.5*x**2+x+2+np.random.normal(0,1,size=100)\n",
    "from sklearn.linear_model import LinearRegression\n",
    "reg=LinearRegression()\n",
    "reg.fit(X,y)\n",
    "reg.score(X,y)\n",
    "\n",
    "y_pre=reg.predict(X)\n",
    "plt.scatter(x,y)\n",
    "plt.plot(np.sort(x),y_pre[np.argsort(x)],color='r')\n",
    "\n",
    "from sklearn.metrics import mean_squared_error\n",
    "mean_squared_error(y,y_pre)"
   ]
  },
  {
   "cell_type": "code",
   "execution_count": 24,
   "metadata": {},
   "outputs": [
    {
     "name": "stdout",
     "output_type": "stream",
     "text": [
      "2.287114515300703\n"
     ]
    },
    {
     "data": {
      "text/plain": [
       "[<matplotlib.lines.Line2D at 0x175430ea828>]"
      ]
     },
     "execution_count": 24,
     "metadata": {},
     "output_type": "execute_result"
    },
    {
     "data": {
      "image/png": "[encoded data removed]",
      "text/plain": [
       "<Figure size 432x288 with 1 Axes>"
      ]
     },
     "metadata": {
      "needs_background": "light"
     },
     "output_type": "display_data"
    }
   ],
   "source": [
    "from sklearn.pipeline import Pipeline\n",
    "from sklearn.preprocessing import StandardScaler\n",
    "from sklearn.preprocessing import PolynomialFeatures\n",
    "def PolynomialRegression(degree):\n",
    "    return Pipeline([\n",
    "    (\"poly\",PolynomialFeatures(degree=degree)),\n",
    "    (\"std_scaler\",StandardScaler()),\n",
    "    (\"lin_reg\",LinearRegression())\n",
    "])\n",
    "\n",
    "poly2_reg =PolynomialRegression(50)\n",
    "poly2_reg.fit(X,y)\n",
    "#solve mse\n",
    "y2_pre = poly2_reg.predict(X)\n",
    "print(mean_squared_error(y2_pre,y))\n",
    "\n",
    "plt.scatter(x,y)\n",
    "plt.plot(np.sort(x),y2_pre[np.argsort(x)],color ='r')"
   ]
  },
  {
   "cell_type": "code",
   "execution_count": 25,
   "metadata": {},
   "outputs": [
    {
     "name": "stdout",
     "output_type": "stream",
     "text": [
      "1.0219321354550137\n"
     ]
    },
    {
     "data": {
      "text/plain": [
       "[<matplotlib.lines.Line2D at 0x1754316a048>]"
      ]
     },
     "execution_count": 25,
     "metadata": {},
     "output_type": "execute_result"
    },
    {
     "data": {
      "image/png": "[encoded data removed]",
      "text/plain": [
       "<Figure size 432x288 with 1 Axes>"
      ]
     },
     "metadata": {
      "needs_background": "light"
     },
     "output_type": "display_data"
    }
   ],
   "source": [
    "from sklearn.pipeline import Pipeline\n",
    "from sklearn.preprocessing import StandardScaler\n",
    "from sklearn.preprocessing import PolynomialFeatures\n",
    "def PolynomialRegression(degree):\n",
    "    return Pipeline([#构建Pipeline\n",
    "    (\"poly\",PolynomialFeatures(degree=degree)),#构建PolynomialFeatures\n",
    "    (\"std_scaler\",StandardScaler()),#构建归一化StandardScaler\n",
    "    (\"lin_reg\",LinearRegression())#构建线性回归LinearRegression\n",
    "])\n",
    "#设置degree=2 进行fit拟合\n",
    "poly2_reg =PolynomialRegression(2)\n",
    "poly2_reg.fit(X,y)\n",
    "\n",
    "#solve mse\n",
    "y2_pre = poly2_reg.predict(X)\n",
    "print(mean_squared_error(y2_pre,y))\n",
    "\n",
    "plt.scatter(x,y)\n",
    "plt.plot(np.sort(x),y2_pre[np.argsort(x)],color ='r')"
   ]
  },
  {
   "cell_type": "markdown",
   "metadata": {},
   "source": [
    "### 3. Use your own language to explain why dropout can prevent overfitting. Should the neural network rescale the activation output after dropout? Why and why not? Should the neural network apply dropout on the test dataset? Why and why not? "
   ]
  },
  {
   "cell_type": "markdown",
   "metadata": {},
   "source": [
    "The reasons why dropout can prevent overfitting:\n",
    "\n",
    "Dropout randomly knocks out units in the network. So it's as if on every iteration working with a smaller neural network, and so using a smaller neural network seems like it should have a regularizing effect.\n",
    "\n",
    "The other way is to explain it from the perspective of a single unit. for one unit to do its job as for inputs and it needs to generate some meaningful output. Now with drop out, the inputs can get randomly eliminated. Sometimes those two units will get eliminated, sometimes a different unit will get eliminated. So, what this means is that this unit, which I'm circling in purple, it can't rely on any one feature because any one feature could go away at random or any one of its own inputs could go away at random. Some particular would be reluctant to put all of its bets on, say, just this input. The weights, we're reluctant to put too much weight on any one input because it can go away. So this unit will be more motivated to spread out this way and give you a little bit of weight to each of the four inputs to this unit. And by spreading all the weights, this will tend to have an effect of shrinking the squared norm of the weights. And so, similar to what we saw with L2 regularization, the effect of implementing drop out is that it shrinks the weights and does some of those outer regularization that helps prevent over-fitting."
   ]
  },
  {
   "cell_type": "markdown",
   "metadata": {},
   "source": [
    "-----------------------------------------------------------------------\n",
    "Should the neural network rescale the activation output after dropout?\n",
    "\n",
    "-----------------------------------------------------------------------\n",
    "Yes.When the model uses a dropout layer, only the hidden layer units with a proportion of p participate in the training during the training. When predicting, if all hidden layer units need to participate, the result obtained will be larger on average than during training. 1 / p, in order to avoid this, you need to multiply the output result by the test to keep the input scale of the next layer unchanged. With inverted dropout, we can directly expand the weight left by dropout during training, so that the scale of the result can be maintained, and no extra operations are required during prediction, which is more convenient."
   ]
  },
  {
   "cell_type": "markdown",
   "metadata": {},
   "source": [
    "---------------------------------------------------------------\n",
    "Should the neural network apply dropout on the test dataset?\n",
    "\n",
    "---------------------------------------------------------------\n",
    "\n",
    "The answer is no.While training, dropout is implemented by only keeping a neuron active with some probability p (a hyperparameter), or setting it to zero otherwise.\n",
    "Inverting the dropout during the training phase should be preferable.Theoretically if we see Bernoulli dropout as a method of adding noise to the network, it's better that the noise could have a zero mean. If we do the scaling at training time to cancel out the portion of deactivated units, the mean of the noise would be zero.\n",
    "\n",
    "There are other types of dropout/noise methods came out later that also possess a zero mean.\n",
    "\n",
    "In terms of training and testing neural networks in practice, there a reason to prefer such implementation as well. Say I want to compare the performance of two models with the same architecture, one is trained by dropout and one is not.\n",
    "\n",
    "If I \"scale the activation at test time\", then I'll need two different networks at test time. If I use the \"inverted version\" then I could just apply the same test network (code) to both sets of trained parameters."
   ]
  },
  {
   "cell_type": "markdown",
   "metadata": {},
   "source": [
    "### 4. Gradient exploding and gradient vanishing are two common problems that can appear in deep neural networks. During training, the neural network updates parameters by doing back-propagation and gradient descent. The gradient exploding means that the gradient with respect to a parameter that is far from the output of the neural network could grow exponentially larger during back-propagation. The gradient vanishing means that the gradient with respect to a parameter that is far from the output of the neural network could vanish to zero during the back-propagation process. Use your own language to explain when and why this could happen to our neural network. You can either state your answer intuitively or use Mathematical formulas to prove it."
   ]
  },
  {
   "cell_type": "markdown",
   "metadata": {},
   "source": [
    "Gradient disappears often appears in 2 situations: one is in the deep network, and the other is the inappropriate loss function, such as sigmoid. The reason why gradient disappears happenss is when the gradient disappears, the hidden layer close to the output layer is relatively normal due to its gradient, so the weight value is relatively normal, but the closer to the input layer, due to the disappearance of the gradient, it will cause the hidden layer close to the input layer. Weights update slowly or stagnate. This results in the training of the shallow network which is equivalent to the following layers.\n",
    "\n",
    "Gradient explosion generally occurs in the case of deep networks and weight initialization. In deep neural networks or recurrent neural networks, the gradient of errors can be cumulatively multiplied in the update. If the gradient value between the network layers is greater than 1.0, repeated multiplication will cause the gradient to grow exponentially, the gradient will become very large, and then the network weight will be significantly updated, and thus the network will become unstable."
   ]
  },
  {
   "cell_type": "markdown",
   "metadata": {},
   "source": [
    "                                   \n",
    "-----------------------------------------------------------------"
   ]
  },
  {
   "cell_type": "markdown",
   "metadata": {},
   "source": [
    "The example here is assuming there is only one neuron per layer and for each layer yi = σ(zi) = σ(wi*xi + bi) , where σ is the sigmoid function. The total number of layer is 4. The output is C. The plot shows like below.\n",
    "\n",
    "(  ) -------> ( b1 )  ----w2---->  ( b2 )  ----w3---->  ( b3 )  ----w4---->  ( b4 ) --------> C\n",
    "\n",
    "α C/α b1=αC/αy4  * σ'(z4)w4σ'(z3)w3σ'(z2)w2σ'(z1)"
   ]
  },
  {
   "cell_type": "markdown",
   "metadata": {},
   "source": [
    "If all| σ'(z) w| <= 0.25, because of the chain rule,as the number of layer become more, αC/αb1 will become less thus the gradient disappears will happen.\n",
    "\n",
    "If all| σ'(z) w| > 1,the gradient with respect to a parameter that is far from the output of the neural network could grow exponentially larger during back-propagation which means the gradient explode will happen."
   ]
  }
 ],
 "metadata": {
  "kernelspec": {
   "display_name": "Python 3",
   "language": "python",
   "name": "python3"
  },
  "language_info": {
   "codemirror_mode": {
    "name": "ipython",
    "version": 3
   },
   "file_extension": ".py",
   "mimetype": "text/x-python",
   "name": "python",
   "nbconvert_exporter": "python",
   "pygments_lexer": "ipython3",
   "version": "3.7.3"
  }
 },
 "nbformat": 4,
 "nbformat_minor": 2
}
