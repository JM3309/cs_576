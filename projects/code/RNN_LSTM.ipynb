{
  "nbformat": 4,
  "nbformat_minor": 0,
  "metadata": {
    "colab": {
      "name": "modelv3.ipynb",
      "provenance": [],
      "collapsed_sections": []
    },
    "kernelspec": {
      "name": "python3",
      "display_name": "Python 3"
    },
    "accelerator": "GPU"
  },
  "cells": [
    {
      "cell_type": "markdown",
      "metadata": {
        "id": "KwSWA7XDD40s",
        "colab_type": "text"
      },
      "source": [
        "Sub Task A results: https://arxiv.org/pdf/1903.08983.pdf\n",
        "\n",
        "Data from: https://github.com/sandro272/SemEval2019-OffensEval/tree/51dde8c38b512d5fb536fd74b2afd3dc7ed73831/train_data\n",
        "\n",
        "https://github.com/sandro272/SemEval2019-OffensEval/tree/51dde8c38b512d5fb536fd74b2afd3dc7ed73831/test_data\n",
        "\n",
        "pre-processing: https://github.com/sandro272/SemEval2019-OffensEval/blob/51dde8c38b512d5fb536fd74b2afd3dc7ed73831/code/demo.py#L9\n",
        "\n"
      ]
    },
    {
      "cell_type": "code",
      "metadata": {
        "id": "xk4E88dDQEf4",
        "colab_type": "code",
        "colab": {}
      },
      "source": [
        "import torch   \n",
        "from torchtext import data, datasets \n",
        "from torchtext.data import TabularDataset \n",
        "import pandas as pd\n",
        "from torchtext.vocab import Vectors\n",
        "from torch.nn import init\n",
        "import torch.nn as nn\n",
        "from torchtext.vocab import Vectors\n",
        "import matplotlib.pyplot as plt\n",
        "\n",
        "if torch.cuda.is_available():\n",
        "  DEVICE = \"cuda\"\n",
        "else:\n",
        "  DEVICE = \"cpu\"\n",
        "# print(DEVICE)"
      ],
      "execution_count": null,
      "outputs": []
    },
    {
      "cell_type": "code",
      "metadata": {
        "id": "ml910y6YQUik",
        "colab_type": "code",
        "colab": {
          "base_uri": "https://localhost:8080/",
          "height": 122
        },
        "outputId": "52742908-2ae7-4d1c-cdc7-36ebae1c8e4a"
      },
      "source": [
        "from google.colab import drive\n",
        "drive.mount('/content/drive/')"
      ],
      "execution_count": null,
      "outputs": [
        {
          "output_type": "stream",
          "text": [
            "Go to this URL in a browser: https://accounts.google.com/o/oauth2/auth?client_id=947318989803-6bn6qk8qdgf4n4g3pfee6491hc0brc4i.apps.googleusercontent.com&redirect_uri=urn%3aietf%3awg%3aoauth%3a2.0%3aoob&response_type=code&scope=email%20https%3a%2f%2fwww.googleapis.com%2fauth%2fdocs.test%20https%3a%2f%2fwww.googleapis.com%2fauth%2fdrive%20https%3a%2f%2fwww.googleapis.com%2fauth%2fdrive.photos.readonly%20https%3a%2f%2fwww.googleapis.com%2fauth%2fpeopleapi.readonly\n",
            "\n",
            "Enter your authorization code:\n",
            "··········\n",
            "Mounted at /content/drive/\n"
          ],
          "name": "stdout"
        }
      ]
    },
    {
      "cell_type": "code",
      "metadata": {
        "id": "pQQuamkDl2Ul",
        "colab_type": "code",
        "colab": {
          "base_uri": "https://localhost:8080/",
          "height": 153
        },
        "outputId": "8e115fd1-8930-4dea-cf49-08db3c449ae0"
      },
      "source": [
        "!ls \"/content/drive/My Drive/576-project\""
      ],
      "execution_count": null,
      "outputs": [
        {
          "output_type": "stream",
          "text": [
            "'Check-In #1.gdoc'\t\t        “prepocess_data.ipynb”的副本\n",
            "'Check in #2.gdoc'\t\t        prepocess_emoji.py\n",
            "'Final Write-Up COSC576 Project.gdoc'   prepocess.ipynb\n",
            " glove.6B.200d.txt\t\t       'Presentation Project COSC576.gslides'\n",
            " modelv1.ipynb\t\t\t       'Project Proposal COSC576.gdoc'\n",
            " modelv2.ipynb\t\t\t        testdata.csv\n",
            " modelv3.ipynb\t\t\t        traindata.csv\n",
            " modelv4.ipynb\t\t\t        train_subtask_a.tsv\n"
          ],
          "name": "stdout"
        }
      ]
    },
    {
      "cell_type": "code",
      "metadata": {
        "id": "RbDhQG1AQepX",
        "colab_type": "code",
        "colab": {}
      },
      "source": [
        "torch.manual_seed(2020)\n",
        "torch.backends.cudnn.deterministic = True"
      ],
      "execution_count": null,
      "outputs": []
    },
    {
      "cell_type": "code",
      "metadata": {
        "id": "WZFBjrH9TNGq",
        "colab_type": "code",
        "colab": {}
      },
      "source": [
        "# reference this: https://github.com/pytorch/text/blob/c839a7934930819be7e240ea972e4d600966afdc/torchtext/data/field.py#L61\n",
        "# default tokenizer is string.split(), another idea would be to use spacy (but would split things like i'm)\n",
        "# We need to load the data and by make use of Fields we can tell torch.text how we want it to look like.\n",
        "# Our dataset has two kinds of fields, the reviews and the labels. Fields expects words as inputs and \n",
        "# will build a vocabulary later on. So if you're field is not numericalized (like our reviews) you set pass\n",
        "# use_vocab=False and sequential=False\n",
        "\n",
        "LABEL = data.Field(sequential=False,\n",
        "                   use_vocab=False, \n",
        "                   dtype = torch.float,\n",
        "                   batch_first=True)\n",
        "\n",
        "TEXT = data.Field(sequential=True,  \n",
        "                  lower=True,\n",
        "                  include_lengths=True,\n",
        "                  batch_first=True)\n"
      ],
      "execution_count": null,
      "outputs": []
    },
    {
      "cell_type": "markdown",
      "metadata": {
        "id": "wfRek4whEbx6",
        "colab_type": "text"
      },
      "source": [
        "read traindata and testdata"
      ]
    },
    {
      "cell_type": "code",
      "metadata": {
        "id": "mRzewXtfQBZc",
        "colab_type": "code",
        "colab": {}
      },
      "source": [
        "traindata = pd.read_csv('/content/drive/My Drive/576-project/traindata.csv')\n",
        "testdata = pd.read_csv('/content/drive/My Drive/576-project/testdata.csv')"
      ],
      "execution_count": null,
      "outputs": []
    },
    {
      "cell_type": "markdown",
      "metadata": {
        "id": "GH25IfajUifc",
        "colab_type": "text"
      },
      "source": [
        "create train and validation set\n",
        "(the proportion is 8:2)"
      ]
    },
    {
      "cell_type": "code",
      "metadata": {
        "id": "xFGjjo_vUgaQ",
        "colab_type": "code",
        "colab": {}
      },
      "source": [
        "from sklearn.model_selection import train_test_split\n",
        "\n",
        "train, val = train_test_split(traindata, test_size=0.2)\n",
        "train.to_csv(\"train.csv\", index=False)\n",
        "val.to_csv(\"val.csv\", index=False)"
      ],
      "execution_count": null,
      "outputs": []
    },
    {
      "cell_type": "code",
      "metadata": {
        "id": "DQXniwlOqnjo",
        "colab_type": "code",
        "colab": {
          "base_uri": "https://localhost:8080/",
          "height": 204
        },
        "outputId": "0473fad6-f743-478c-abf8-9b5226b375d5"
      },
      "source": [
        "train.head()\n",
        "testdata.head()"
      ],
      "execution_count": null,
      "outputs": [
        {
          "output_type": "execute_result",
          "data": {
            "text/html": [
              "<div>\n",
              "<style scoped>\n",
              "    .dataframe tbody tr th:only-of-type {\n",
              "        vertical-align: middle;\n",
              "    }\n",
              "\n",
              "    .dataframe tbody tr th {\n",
              "        vertical-align: top;\n",
              "    }\n",
              "\n",
              "    .dataframe thead th {\n",
              "        text-align: right;\n",
              "    }\n",
              "</style>\n",
              "<table border=\"1\" class=\"dataframe\">\n",
              "  <thead>\n",
              "    <tr style=\"text-align: right;\">\n",
              "      <th></th>\n",
              "      <th>tweet</th>\n",
              "      <th>label</th>\n",
              "    </tr>\n",
              "  </thead>\n",
              "  <tbody>\n",
              "    <tr>\n",
              "      <th>0</th>\n",
              "      <td>WhoIsQ  WheresTheServer  DumpNike  DECLASFISA...</td>\n",
              "      <td>1</td>\n",
              "    </tr>\n",
              "    <tr>\n",
              "      <th>1</th>\n",
              "      <td>ConstitutionDay is revered by Conservatives  ...</td>\n",
              "      <td>0</td>\n",
              "    </tr>\n",
              "    <tr>\n",
              "      <th>2</th>\n",
              "      <td>FOXNews  NRA  MAGA  POTUS  TRUMP  2ndAmendmen...</td>\n",
              "      <td>0</td>\n",
              "    </tr>\n",
              "    <tr>\n",
              "      <th>3</th>\n",
              "      <td>Watching  Boomer getting the news that she is...</td>\n",
              "      <td>0</td>\n",
              "    </tr>\n",
              "    <tr>\n",
              "      <th>4</th>\n",
              "      <td>NoPasaran  Unity demo to oppose the far right...</td>\n",
              "      <td>1</td>\n",
              "    </tr>\n",
              "  </tbody>\n",
              "</table>\n",
              "</div>"
            ],
            "text/plain": [
              "                                               tweet  label\n",
              "0   WhoIsQ  WheresTheServer  DumpNike  DECLASFISA...      1\n",
              "1   ConstitutionDay is revered by Conservatives  ...      0\n",
              "2   FOXNews  NRA  MAGA  POTUS  TRUMP  2ndAmendmen...      0\n",
              "3   Watching  Boomer getting the news that she is...      0\n",
              "4   NoPasaran  Unity demo to oppose the far right...      1"
            ]
          },
          "metadata": {
            "tags": []
          },
          "execution_count": 8
        }
      ]
    },
    {
      "cell_type": "code",
      "metadata": {
        "id": "pmQgrw1mFY7J",
        "colab_type": "code",
        "colab": {}
      },
      "source": [
        "trainvalid_datafields = [(\"label\", LABEL),(\"tweet\", TEXT)]\n",
        "test_datafields = [(\"label\", LABEL),(\"tweet\", TEXT)]\n",
        "\n",
        "\n",
        "train, valid = data.TabularDataset.splits(path='.', train='train.csv', validation='val.csv', format='csv', skip_header=True,\n",
        "                                       fields=trainvalid_datafields)\n",
        "test = data.TabularDataset('/content/drive/My Drive/576-project/testdata.csv', format='tsv', skip_header=True,\n",
        "        fields=test_datafields)"
      ],
      "execution_count": null,
      "outputs": []
    },
    {
      "cell_type": "markdown",
      "metadata": {
        "id": "PbpSIom8KypU",
        "colab_type": "text"
      },
      "source": [
        "test the results"
      ]
    },
    {
      "cell_type": "code",
      "metadata": {
        "id": "U3cNON5bTmgy",
        "colab_type": "code",
        "colab": {
          "base_uri": "https://localhost:8080/",
          "height": 479
        },
        "outputId": "5763f571-1dc4-43b4-a576-6f92519ae879"
      },
      "source": [
        "print(train[5])\n",
        "print(train[5].__dict__.keys())\n",
        "\n",
        "for i in range(20):\n",
        "  print(vars(train.examples[i]))\n",
        "\n",
        "print(f'\\nTraining sample size: {len(train)}')\n",
        "print(f'Validation sample size: {len(valid)}')\n",
        "print(f'Test sample size: {len(test)}')"
      ],
      "execution_count": null,
      "outputs": [
        {
          "output_type": "stream",
          "text": [
            "<torchtext.data.example.Example object at 0x7efcacab1f98>\n",
            "dict_keys(['label', 'tweet'])\n",
            "{'label': '1', 'tweet': ['a', 'little', 'note', 'for', 'the', 'bible', 'have', 'you', 'ever', 'read', 'that', 'says', 'that', 'if', 'the', 'holy', 'spirit', 'is', 'in', 'us', 'that', 'we', 'can', 'fight', 'off', 'the', 'devil', 'you', 'lie', 'and', 'cla', 'i', 'am', 'that', 'you', 'are', 'holy', 'no', 'human', 'is', 'holy', 'by', 'the', 'way', 'so', 'how', 'dare', 'you', 'blame', 'the', 'devil', 'your', 'new', 'name', 'is', 'pope', 'false', 'prophet']}\n",
            "{'label': '1', 'tweet': ['he', 'orchestrated', 'provoked', 'it', 'so', 'that', 'he', 'could', 'cry', 'that', 'he', 'was', 'the', 'vict', 'i', 'am', 'of', 'a', 'yet', 'another', 'conspiracy', 'he', 'is', 'such', 'desperate', 'weirdo']}\n",
            "{'label': '1', 'tweet': ['i', 'call', 'her', 'the', 'negative', 'nel', 'lie', 'who', 'lives', 'in', 'my', 'brain', 'i', 'constantly', 'battle', 'with', 'her', 'she', 'is', 'a', 'creep']}\n",
            "{'label': '0', 'tweet': ['this', 'has', 'gone', 'on', 'for', 'too', 'long', 'imo', 'trump', 'wants', 'h', 'i', 'am', 'to', 'meet', 'with', 'them', 'and', 'he', 'had', 'been', 'trying', 'to', 'help', 'trump', 'reach', 'a', 'peace', 'deal', 'until', 'this', 'blows', 'over', 'and', 'he', 'is', 'able', 'to', 'tell', 'the', 'world', 'that', 'they', 'was', 'lying', 'to', 'everyone', 'in', 'order', 'to', 'trick', 'certain', 'people', 'until', 'they', 'could', 'take', 'them', 'down']}\n",
            "{'label': '1', 'tweet': ['she', 'is', 'ultra', 'rare', 'screwed', 'trump', 'owns', 'supreme', 'court', 'of', 'the', 'united', 'states', 'and', 'he', 'will', 'exact', 'a', 'wrath', 'upon', 'enemies', 'after', 'the', 'midterms']}\n",
            "{'label': '1', 'tweet': ['never', 'nigga', 'skull', 'skull']}\n",
            "{'label': '1', 'tweet': ['who', 'talks', 'shit', 'on', 'buff', 'chicken', 'dip', 'dude', 'it', 'is', 'buff', 'chicken', 'dip']}\n",
            "{'label': '1', 'tweet': ['money', 'better', 'spent', 'on', 'american', 'mental', 'health', 'or', 'gun', 'control', 'sandy', 'hook', 'vegas', 'concert', 'theater', 'shooting', 'church', 'in', 'sunny', 'springs']}\n",
            "{'label': '0', 'tweet': ['ever', 'get', 'the', 'feeling', 'these', 'people', 'do', 'not', 'live', 'in', 'the', 'same', 'universe', 'as', 'we', 'do']}\n",
            "{'label': '0', 'tweet': ['who', 'needs', 'courts', 'when', 'you', 'have', 'clairvoyant', 'liberals']}\n",
            "{'label': '1', 'tweet': ['7', 'dollar', 'million', 'buyout', 'losers']}\n",
            "{'label': '0', 'tweet': ['that', 'did', 'not', 'do', 'it', 'tougher', 'sentencing', 'laws', 'and', 'more', 'focused', 'crime', 'enforcement', 'did', 'we', 'all', 'know', 'tougher', 'gun', 'control', 'laws', 'do', 'not', 'work']}\n",
            "{'label': '1', 'tweet': ['and', 'is', 'inciting', 'violence', 'towards', 'trump', 'supporters', 'on', 'lists', 'to', 'be', 'targeted', 'by', 'antifa']}\n",
            "{'label': '0', 'tweet': ['this', 'year', 'will', 'go', 'down', 'in', 'history', 'for', 'the', 'first', 'time', 'a', 'civilized', 'nation', 'has', 'full', 'gun', 'registration', 'our', 'streets', 'will', 'be', 'safer', 'our', 'police', 'more', 'efficient', 'and', 'the', 'world', 'will', 'follow', 'our', 'lead', 'into', 'the', 'future', 'adolf', 'hitler', '1935', 'all', 'gun', 'contr', 'also', 'arts', 'with', 'safety', 'it', 'is', 'all', 'bs']}\n",
            "{'label': '0', 'tweet': ['guilt', 'by', 'association', 'is', 'good', 'enough', 'for', 'democrats', 'when', 'it', 'comes', 'to', 'conservatives']}\n",
            "{'label': '1', 'tweet': ['fool']}\n",
            "{'label': '0', 'tweet': ['the', 'president', 'despite', 'all', 'of', 'woodward', 'book', 'of', 'lies', 'and', 'you', 'and', 'barrack', 'has', 'done', 'so', 'far', 'a', 'tremendous', 'job', 'we', 'are', 'respected', 'again', 'our', 'economy', 'is', 'not', 'longer', 'the', 'animic', 'less', 'than', '2percent', 'and', 'our', 'enemies', 'fear', 'us', 'again', 'john', 'you', 'and', 'barrack', 'r', 'history']}\n",
            "{'label': '0', 'tweet': ['liberals', 'did', 'not', 'give', 'juanita', 'broderick', 'a', 'chance', 'to', 'be', 'heard', 'or', 'keith', 'ellison', 's', 'accuser', 'can', 'not', 'have', 'it', 'both', 'ways']}\n",
            "{'label': '0', 'tweet': ['big', 'boss', '2', 'what', 'happen', 'to', 'ashwariya', 'not', 'good', 'sandrayan', 'anna', 'should', 'have', 'not', 'got', 'voted', 'ashwariya', 'should', 'have', 'been', 'gone', 'what', 'bigboss', 'vote', 'for', 'ashwariya', 'so', 'she', 'is', 'save', 'people', 'not', 'voting', 'for', 'her']}\n",
            "{'label': '0', 'tweet': ['and', 'your', 'fans', 'keep', 'going', 'back', 'and', 'forth', 'between', 'it', 'is', 'not', 'in', 'the', 'report', 'to', 'the', 'police', 'or', 'she', 'is', 'lying']}\n",
            "\n",
            "Training sample size: 10592\n",
            "Validation sample size: 2648\n",
            "Test sample size: 860\n"
          ],
          "name": "stdout"
        }
      ]
    },
    {
      "cell_type": "code",
      "metadata": {
        "id": "4VnoxNRgK1k4",
        "colab_type": "code",
        "colab": {
          "base_uri": "https://localhost:8080/",
          "height": 34
        },
        "outputId": "c5a05197-b187-40b7-a0eb-cb951c577888"
      },
      "source": [
        "\n",
        "# build vocabulary and initialize the words with the pretrained embeddings \n",
        "# initialize glove embeddings type, glove.42B.300d\n",
        "TEXT.build_vocab(train, min_freq = 3, vectors = 'glove.6B.200d',  unk_init = torch.Tensor.normal_)  \n",
        "\n",
        "# Unique words in train \n",
        "print(\"Size of vocabulary:\", len(TEXT.vocab))\n",
        "\n",
        "# Commonly used words\n",
        "# print(TEXT.vocab.freqs)  \n",
        "print(TEXT.vocab.freqs.most_common(10)) \n",
        "\n",
        "# the 200 dimensional vectors\n",
        "# print(TEXT.vocab.vectors) "
      ],
      "execution_count": null,
      "outputs": [
        {
          "output_type": "stream",
          "text": [
            ".vector_cache/glove.6B.zip:  12%|█▏        | 106M/862M [00:29<1:38:38, 128kB/s] "
          ],
          "name": "stderr"
        }
      ]
    },
    {
      "cell_type": "code",
      "metadata": {
        "id": "XqwHB8_AMNyR",
        "colab_type": "code",
        "colab": {}
      },
      "source": [
        "# process and batch data. torchtext uses Iterator and BucketIterator.\n",
        "# BucketIterator shuffles that data and groups reviews with similar length together. \n",
        "# So padding is minimized for each batch, and then we can go ahead and feed each batch to the neural network\n",
        "\n",
        "from torchtext.data import Iterator, BucketIterator"
      ],
      "execution_count": null,
      "outputs": []
    },
    {
      "cell_type": "code",
      "metadata": {
        "id": "49vrf-sQOSm7",
        "colab_type": "code",
        "colab": {}
      },
      "source": [
        "BATCH_SIZE = 64 # try larger batch size (32, 64, 128, 256)\n",
        "train_iter, val_iter = data.BucketIterator.splits(\n",
        "    (train, valid), \n",
        "    batch_size = BATCH_SIZE,\n",
        "    sort_key = lambda x: len(x.tweet),\n",
        "    sort_within_batch=True, \n",
        "    device = DEVICE)\n",
        "\n",
        "test_iter = data.Iterator(dataset=test, batch_size=BATCH_SIZE, train=False,\n",
        "                          sort=False, device=DEVICE)\n",
        "\n",
        "# The sort_within_batch argument, when set to True, sorts the data within each\n",
        "# minibatch in decreasing order according to the sort_key. This is necessary \n",
        "# when you want to use pack_padded_sequence with the padded sequence data and\n",
        "# convert the padded sequence tensor to a PackedSequence object."
      ],
      "execution_count": null,
      "outputs": []
    },
    {
      "cell_type": "code",
      "metadata": {
        "id": "-6I9GfS9Oz3k",
        "colab_type": "code",
        "colab": {
          "base_uri": "https://localhost:8080/",
          "height": 408
        },
        "outputId": "de04e9bb-032e-4ce7-a066-66641c86e0f7"
      },
      "source": [
        "# checking grouping is OK\n",
        "for i, batch in enumerate(train_iter):\n",
        "  tweet, tweet_length = batch.tweet\n",
        "  print(tweet_length)\n",
        "  if i == 5:\n",
        "    break"
      ],
      "execution_count": null,
      "outputs": [
        {
          "output_type": "stream",
          "text": [
            "tensor([16, 16, 16, 16, 16, 16, 16, 16, 16, 16, 16, 16, 16, 16, 16, 16, 16, 16,\n",
            "        16, 16, 16, 16, 16, 16, 16, 16, 16, 16, 16, 16, 16, 16, 16, 16, 16, 16,\n",
            "        16, 16, 16, 16, 16, 16, 16, 16, 16, 16, 16, 16, 16, 16, 16, 16, 16, 16,\n",
            "        16, 16, 16, 16, 16, 16, 16, 16, 16, 16], device='cuda:0')\n",
            "tensor([17, 17, 17, 17, 17, 17, 17, 17, 17, 17, 17, 17, 17, 17, 17, 17, 17, 17,\n",
            "        17, 17, 17, 17, 17, 17, 17, 17, 17, 17, 17, 16, 16, 16, 16, 16, 16, 16,\n",
            "        16, 16, 16, 16, 16, 16, 16, 16, 16, 16, 16, 16, 16, 16, 16, 16, 16, 16,\n",
            "        16, 16, 16, 16, 16, 16, 16, 16, 16, 16], device='cuda:0')\n",
            "tensor([21, 21, 21, 21, 21, 21, 21, 21, 21, 21, 21, 21, 21, 21, 21, 21, 21, 21,\n",
            "        21, 21, 21, 21, 21, 21, 21, 21, 21, 21, 21, 21, 21, 21, 21, 21, 21, 21,\n",
            "        21, 21, 21, 21, 20, 20, 20, 20, 20, 20, 20, 20, 20, 20, 20, 20, 20, 20,\n",
            "        20, 20, 20, 20, 20, 20, 20, 20, 20, 20], device='cuda:0')\n",
            "tensor([12, 12, 12, 12, 12, 12, 12, 12, 12, 12, 12, 12, 12, 12, 12, 12, 12, 12,\n",
            "        12, 12, 12, 12, 12, 12, 12, 12, 12, 12, 12, 12, 12, 12, 12, 12, 12, 12,\n",
            "        12, 12, 12, 12, 12, 12, 12, 12, 12, 12, 12, 12, 12, 12, 12, 12, 12, 12,\n",
            "        12, 12, 12, 12, 12, 12, 12, 12, 12, 12], device='cuda:0')\n",
            "tensor([7, 7, 7, 7, 7, 7, 7, 7, 7, 7, 7, 7, 7, 7, 7, 7, 7, 7, 7, 7, 7, 7, 7, 7,\n",
            "        7, 7, 7, 7, 7, 7, 7, 7, 7, 7, 7, 7, 7, 7, 7, 7, 7, 7, 7, 7, 7, 7, 7, 7,\n",
            "        7, 7, 7, 7, 7, 7, 7, 7, 7, 7, 7, 7, 7, 7, 7, 7], device='cuda:0')\n",
            "tensor([43, 43, 43, 43, 43, 43, 43, 43, 43, 43, 43, 43, 43, 43, 43, 43, 43, 43,\n",
            "        43, 43, 43, 42, 42, 42, 42, 42, 42, 42, 42, 42, 42, 42, 42, 42, 42, 42,\n",
            "        42, 42, 42, 42, 42, 42, 42, 42, 42, 42, 42, 42, 42, 42, 42, 42, 42, 42,\n",
            "        42, 42, 42, 42, 42, 42, 42, 42, 42, 42], device='cuda:0')\n"
          ],
          "name": "stdout"
        }
      ]
    },
    {
      "cell_type": "code",
      "metadata": {
        "id": "MPrjsv2GHAhu",
        "colab_type": "code",
        "colab": {}
      },
      "source": [
        "class sentiment(nn.Module):\n",
        "    def __init__(self, vocab_size, embedding_dim, hidden_dim, output_dim, num_layers, \n",
        "                 bidirectional, dropout, mode):\n",
        "        super().__init__()          \n",
        "        self.embedding = nn.Embedding(vocab_size, embedding_dim)\n",
        "        \n",
        "        self.mode = mode\n",
        "        if self.mode == \"LSTM\":\n",
        "          self.rnn = nn.LSTM(embedding_dim, \n",
        "                           hidden_dim, \n",
        "                           num_layers=num_layers, \n",
        "                           bidirectional=bidirectional, \n",
        "                           dropout=dropout,\n",
        "                           batch_first=True)\n",
        "        elif self.mode == \"GRU\":\n",
        "          self.rnn = nn.GRU(embedding_dim, hidden_dim, num_layers, \n",
        "                            dropout=dropout,\n",
        "                            batch_first=True, bidirectional=bidirectional)\n",
        "        else:\n",
        "          RuntimeWarning(\"wrong rnn type\")\n",
        "\n",
        "        self.fc = nn.Linear(hidden_dim * 2, output_dim)\n",
        "        \n",
        "        self.sigmoid = nn.Sigmoid()\n",
        "        \n",
        "    def forward(self, tweet, tweet_length):\n",
        "        embed = self.embedding(tweet)\n",
        "   \n",
        "        packed_embed = nn.utils.rnn.pack_padded_sequence(embed, tweet_length, batch_first=True)\n",
        "        \n",
        "        if self.mode == \"LSTM\":\n",
        "          _, (hidden, cell) = self.rnn(packed_embed)\n",
        "        else:\n",
        "          _, hidden = self.rnn(packed_embed)   \n",
        "\n",
        "        hidden = torch.cat((hidden[-2,:,:], hidden[-1,:,:]), dim = 1)\n",
        "\n",
        "        output=self.fc(hidden)\n",
        "\n",
        "        output=self.sigmoid(output)\n",
        "        \n",
        "        return output"
      ],
      "execution_count": null,
      "outputs": []
    },
    {
      "cell_type": "code",
      "metadata": {
        "id": "iORx9uLUw4C-",
        "colab_type": "code",
        "colab": {}
      },
      "source": [
        "n_epochs = 30\n",
        "size_of_vocab = len(TEXT.vocab)\n",
        "embedding_dim = 200\n",
        "hidden_dim = 64\n",
        "output_dim = 1\n",
        "num_layers = 2\n",
        "bidirection = True\n",
        "dropout = 0.1\n",
        "\n",
        "model = sentiment(size_of_vocab, embedding_dim, hidden_dim, output_dim, num_layers, \n",
        "                   bidirectional = True, dropout = dropout, mode=\"GRU\")\n",
        "model = model.to(DEVICE)\n"
      ],
      "execution_count": null,
      "outputs": []
    },
    {
      "cell_type": "code",
      "metadata": {
        "id": "2SW1VTf1Jso9",
        "colab_type": "code",
        "colab": {
          "base_uri": "https://localhost:8080/",
          "height": 51
        },
        "outputId": "db9408f1-7b8e-47f7-e6cc-803672d28a3f"
      },
      "source": [
        "# number of parameters in model\n",
        "print(sum(p.numel() for p in model.parameters() if p.requires_grad))\n",
        "\n",
        "# number of training data\n",
        "len(train)\n",
        "\n",
        "# Note we have way too many parameters compared to training data so our model will \n",
        "# have a tendency to overfit. We will need to make use of a lot of regularization (dropout)"
      ],
      "execution_count": null,
      "outputs": [
        {
          "output_type": "stream",
          "text": [
            "1308569\n"
          ],
          "name": "stdout"
        },
        {
          "output_type": "execute_result",
          "data": {
            "text/plain": [
              "10592"
            ]
          },
          "metadata": {
            "tags": []
          },
          "execution_count": 17
        }
      ]
    },
    {
      "cell_type": "code",
      "metadata": {
        "id": "lCNmL_eOw4AS",
        "colab_type": "code",
        "colab": {
          "base_uri": "https://localhost:8080/",
          "height": 34
        },
        "outputId": "e94655e3-43f6-478c-c736-811f2eab58bb"
      },
      "source": [
        "# Initialize the GloVe\n",
        "pretrained_embeddings = TEXT.vocab.vectors\n",
        "model.embedding.weight.data.copy_(pretrained_embeddings)\n",
        "\n",
        "print(pretrained_embeddings.shape)"
      ],
      "execution_count": null,
      "outputs": [
        {
          "output_type": "stream",
          "text": [
            "torch.Size([5659, 200])\n"
          ],
          "name": "stdout"
        }
      ]
    },
    {
      "cell_type": "code",
      "metadata": {
        "id": "x4gC19DZw39Q",
        "colab_type": "code",
        "colab": {}
      },
      "source": [
        "import torch.optim as optim\n",
        "\n",
        "optimizer = optim.Adam(model.parameters())\n",
        "criterion = nn.BCELoss()\n",
        "criterion = criterion.to(DEVICE)"
      ],
      "execution_count": null,
      "outputs": []
    },
    {
      "cell_type": "code",
      "metadata": {
        "id": "EtKiB5-1-_EB",
        "colab_type": "code",
        "colab": {}
      },
      "source": [
        "def accuracy_func(y_pred, y):\n",
        "    y_pred = torch.round(y_pred)\n",
        "    correct = (y_pred == y).float() \n",
        "    accuracy = correct.sum() / len(correct)\n",
        "    return accuracy"
      ],
      "execution_count": null,
      "outputs": []
    },
    {
      "cell_type": "code",
      "metadata": {
        "id": "n1ad9C8TGSSK",
        "colab_type": "code",
        "colab": {}
      },
      "source": [
        "from sklearn.metrics import f1_score\n",
        "import numpy as np\n",
        "\n",
        "def f1_score_macro(preds, labels):\n",
        "    pred_flat = np.argmax(preds, axis=1).flatten()\n",
        "    labels_flat = labels.flatten()\n",
        "    f1 = f1_score(labels_flat, pred_flat,average='macro')\n",
        "    return np.sum(f1)"
      ],
      "execution_count": null,
      "outputs": []
    },
    {
      "cell_type": "code",
      "metadata": {
        "id": "ATckS_jVERmI",
        "colab_type": "code",
        "colab": {}
      },
      "source": [
        "def f1_score(preds, labels): #try different values of t\n",
        "    y_pred = torch.round(y_pred)\n",
        "    TP = (labels == 1).float & (y_pred == 1).float\n",
        "\n",
        "\n",
        "    TP = np.sum((labels_flat == 1) & (pred_flat == 1))\n",
        "    FP = np.sum((labels_flat == 0) & (pred_flat == 1))\n",
        "    FN = np.sum((labels_flat == 1) & (pred_flat == 0))  \n",
        "    precision_1 = TP / (TP + FP)\n",
        "    #precision_0\n",
        "    recall = TP / (TP + FN)\n",
        "    #recall_0 =\n",
        "    f1 = 2 * precision * recall / (precision + recall)\n",
        "    return np.sum(f1)"
      ],
      "execution_count": null,
      "outputs": []
    },
    {
      "cell_type": "code",
      "metadata": {
        "id": "QQDjok3b5iey",
        "colab_type": "code",
        "colab": {}
      },
      "source": [
        "def train_eval(model, iterator, optimizer, criterion, mode):\n",
        "\n",
        "    total_loss = 0 \n",
        "    total_accuracy = 0\n",
        "    label_true = []\n",
        "    label_model = []\n",
        "    \n",
        "    if mode == \"train\":\n",
        "      model.train()\n",
        "      for batch in iterator:\n",
        "        optimizer.zero_grad() \n",
        "\n",
        "        tweet, tweet_len = batch.tweet  \n",
        "        label_pred = model(tweet, tweet_len).squeeze() \n",
        "        #print(label_pred.detach().cpu().numpy()) \n",
        "        \n",
        "        loss = criterion(label_pred, batch.label)        \n",
        "        accuracy = accuracy_func(label_pred, batch.label)   \n",
        "        \n",
        "        loss.backward()       \n",
        "        optimizer.step()      \n",
        "\n",
        "        total_loss += loss.item()  \n",
        "        total_accuracy += accuracy.item()    \n",
        "        \n",
        "      mean_loss = total_loss / len(iterator)\n",
        "      mean_accuracy = total_accuracy / len(iterator)\n",
        "\n",
        "    elif mode == \"eval\":\n",
        "      model.eval()\n",
        "      with torch.no_grad():\n",
        "        for batch in iterator:\n",
        "\n",
        "          tweet, tweet_len = batch.tweet  \n",
        "          label_pred = model(tweet, tweet_len).squeeze()  \n",
        "          \n",
        "          loss = criterion(label_pred, batch.label)\n",
        "          accuracy = accuracy_func(label_pred, batch.label)\n",
        "            \n",
        "          total_loss += loss.item()\n",
        "          total_accuracy += accuracy.item()\n",
        "\n",
        "          label_true.append(batch.label.data.to('cpu'))\n",
        "          label_model.append(label_pred.data.to('cpu'))\n",
        "\n",
        "        mean_loss = total_loss / len(iterator)\n",
        "        mean_accuracy = total_accuracy / len(iterator)\n",
        "        \n",
        "    else:\n",
        "      return \"Wrong Mode\"\n",
        "\n",
        "    return mean_loss, mean_accuracy, label_true, label_model"
      ],
      "execution_count": null,
      "outputs": []
    },
    {
      "cell_type": "code",
      "metadata": {
        "id": "88WckNSQw30o",
        "colab_type": "code",
        "colab": {
          "base_uri": "https://localhost:8080/",
          "height": 805
        },
        "outputId": "daad311b-ca6a-457b-f350-8733db8405ad"
      },
      "source": [
        "from sklearn.metrics import f1_score\n",
        "\n",
        "plot_val_loss = []\n",
        "plot_train_loss = []\n",
        "plot_val_accuracy = []\n",
        "plot_train_accuracy = []\n",
        "\n",
        "for epoch in range(n_epochs):\n",
        "     \n",
        "    train_loss, train_accuracy, label_true, label_pred = train_eval(model, train_iter, optimizer, criterion, \"train\")\n",
        " \n",
        "    val_loss, val_accuracy, label_true, label_pred = train_eval(model, val_iter, optimizer, criterion, \"eval\")\n",
        "    #print(f1_score_macro(label_true, label_pred))\n",
        "    #break\n",
        "    plot_val_loss.append(val_loss)\n",
        "    plot_train_loss.append(train_loss)\n",
        "    plot_val_accuracy.append(val_accuracy)\n",
        "    plot_train_accuracy.append(train_accuracy)\n",
        "\n",
        "\n",
        "    print(f'Epoch: {epoch+1}, Train Loss: {train_loss:.4f},Validation Loss: {val_loss:.4f}, Train Accuracy: {train_accuracy*100:.2f}%, Validation Accuracy: {val_accuracy*100:.2f}%')\n",
        "\n",
        "fig = plt.figure()\n",
        "ax1 = fig.add_subplot(1, 2, 1)\n",
        "ax2 = fig.add_subplot(1, 2, 2)\n",
        "\n",
        "ax1.plot(plot_val_loss, label='validation loss')\n",
        "ax1.plot(plot_train_loss, label='training loss')\n",
        "ax2.plot(plot_train_accuracy, label='training accuracy')\n",
        "ax2.plot(plot_val_accuracy, label='validation accuracy')\n",
        "\n",
        "ax1.set_xlabel('Epoch (s)')\n",
        "ax1.set_ylabel('Loss')\n",
        "ax1.set_title('Loss')\n",
        "ax1.legend()\n",
        "\n",
        "\n",
        "ax2.set_xlabel('Epoch (s)')\n",
        "ax2.set_ylabel('Accuracy')\n",
        "ax2.set_title('Accuracy')\n",
        "ax2.legend()\n",
        "3\n",
        "plt.show()"
      ],
      "execution_count": null,
      "outputs": [
        {
          "output_type": "stream",
          "text": [
            "Epoch: 1, Train Loss: 0.3189,Validation Loss: 0.5789, Train Accuracy: 86.80%, Validation Accuracy: 73.67%\n",
            "Epoch: 2, Train Loss: 0.2348,Validation Loss: 0.6694, Train Accuracy: 90.91%, Validation Accuracy: 72.41%\n",
            "Epoch: 3, Train Loss: 0.1496,Validation Loss: 0.8044, Train Accuracy: 94.29%, Validation Accuracy: 72.35%\n",
            "Epoch: 4, Train Loss: 0.0875,Validation Loss: 1.0574, Train Accuracy: 96.94%, Validation Accuracy: 73.61%\n",
            "Epoch: 5, Train Loss: 0.0587,Validation Loss: 1.2505, Train Accuracy: 98.15%, Validation Accuracy: 73.80%\n",
            "Epoch: 6, Train Loss: 0.0391,Validation Loss: 1.3892, Train Accuracy: 98.85%, Validation Accuracy: 72.43%\n",
            "Epoch: 7, Train Loss: 0.0330,Validation Loss: 1.5073, Train Accuracy: 98.94%, Validation Accuracy: 72.33%\n",
            "Epoch: 8, Train Loss: 0.0219,Validation Loss: 1.6236, Train Accuracy: 99.30%, Validation Accuracy: 72.79%\n",
            "Epoch: 9, Train Loss: 0.0157,Validation Loss: 1.7651, Train Accuracy: 99.52%, Validation Accuracy: 72.58%\n",
            "Epoch: 10, Train Loss: 0.0154,Validation Loss: 1.8781, Train Accuracy: 99.48%, Validation Accuracy: 72.40%\n",
            "Epoch: 11, Train Loss: 0.0111,Validation Loss: 1.8512, Train Accuracy: 99.61%, Validation Accuracy: 72.36%\n",
            "Epoch: 12, Train Loss: 0.0114,Validation Loss: 1.9335, Train Accuracy: 99.66%, Validation Accuracy: 72.64%\n",
            "Epoch: 13, Train Loss: 0.0113,Validation Loss: 2.0662, Train Accuracy: 99.64%, Validation Accuracy: 71.91%\n",
            "Epoch: 14, Train Loss: 0.0239,Validation Loss: 1.9689, Train Accuracy: 99.20%, Validation Accuracy: 69.67%\n",
            "Epoch: 15, Train Loss: 0.0433,Validation Loss: 1.8389, Train Accuracy: 98.48%, Validation Accuracy: 73.00%\n",
            "Epoch: 16, Train Loss: 0.0158,Validation Loss: 2.0240, Train Accuracy: 99.46%, Validation Accuracy: 72.88%\n",
            "Epoch: 17, Train Loss: 0.0098,Validation Loss: 2.2818, Train Accuracy: 99.65%, Validation Accuracy: 72.69%\n",
            "Epoch: 18, Train Loss: 0.0076,Validation Loss: 2.4429, Train Accuracy: 99.70%, Validation Accuracy: 72.36%\n",
            "Epoch: 19, Train Loss: 0.0078,Validation Loss: 2.4432, Train Accuracy: 99.71%, Validation Accuracy: 72.73%\n",
            "Epoch: 20, Train Loss: 0.0077,Validation Loss: 2.5481, Train Accuracy: 99.72%, Validation Accuracy: 72.88%\n",
            "Epoch: 21, Train Loss: 0.0070,Validation Loss: 2.5644, Train Accuracy: 99.70%, Validation Accuracy: 72.36%\n",
            "Epoch: 22, Train Loss: 0.0065,Validation Loss: 2.6352, Train Accuracy: 99.70%, Validation Accuracy: 72.57%\n",
            "Epoch: 23, Train Loss: 0.0063,Validation Loss: 2.6340, Train Accuracy: 99.74%, Validation Accuracy: 71.95%\n",
            "Epoch: 24, Train Loss: 0.0059,Validation Loss: 2.8009, Train Accuracy: 99.74%, Validation Accuracy: 72.99%\n",
            "Epoch: 25, Train Loss: 0.0057,Validation Loss: 2.8210, Train Accuracy: 99.76%, Validation Accuracy: 72.92%\n",
            "Epoch: 26, Train Loss: 0.0068,Validation Loss: 2.7430, Train Accuracy: 99.71%, Validation Accuracy: 72.69%\n",
            "Epoch: 27, Train Loss: 0.0184,Validation Loss: 2.2287, Train Accuracy: 99.35%, Validation Accuracy: 73.23%\n",
            "Epoch: 28, Train Loss: 0.0378,Validation Loss: 2.1413, Train Accuracy: 98.78%, Validation Accuracy: 72.93%\n",
            "Epoch: 29, Train Loss: 0.0149,Validation Loss: 2.2953, Train Accuracy: 99.46%, Validation Accuracy: 72.15%\n",
            "Epoch: 30, Train Loss: 0.0081,Validation Loss: 2.6174, Train Accuracy: 99.64%, Validation Accuracy: 72.27%\n"
          ],
          "name": "stdout"
        },
        {
          "output_type": "display_data",
          "data": {
            "image/png": "[encoded data removed]",
            "text/plain": [
              "<Figure size 432x288 with 2 Axes>"
            ]
          },
          "metadata": {
            "tags": [],
            "needs_background": "light"
          }
        }
      ]
    },
    {
      "cell_type": "code",
      "metadata": {
        "id": "HBQ1or6rPhMp",
        "colab_type": "code",
        "colab": {
          "base_uri": "https://localhost:8080/",
          "height": 34
        },
        "outputId": "716be858-6da5-4519-8405-aeeb8afef3f8"
      },
      "source": [
        "label_true"
      ],
      "execution_count": null,
      "outputs": [
        {
          "output_type": "execute_result",
          "data": {
            "text/plain": [
              "[]"
            ]
          },
          "metadata": {
            "tags": []
          },
          "execution_count": 31
        }
      ]
    }
  ]
}